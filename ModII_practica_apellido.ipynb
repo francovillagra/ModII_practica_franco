{
 "cells": [
  {
   "cell_type": "code",
   "execution_count": 7,
   "metadata": {},
   "outputs": [],
   "source": [
    "import pandas as pd"
   ]
  },
  {
   "cell_type": "code",
   "execution_count": 3,
   "metadata": {},
   "outputs": [],
   "source": [
    "df = pd.read_csv('health_data.csv')"
   ]
  },
  {
   "cell_type": "code",
   "execution_count": 6,
   "metadata": {},
   "outputs": [
    {
     "data": {
      "text/html": [
       "<div>\n",
       "<style scoped>\n",
       "    .dataframe tbody tr th:only-of-type {\n",
       "        vertical-align: middle;\n",
       "    }\n",
       "\n",
       "    .dataframe tbody tr th {\n",
       "        vertical-align: top;\n",
       "    }\n",
       "\n",
       "    .dataframe thead th {\n",
       "        text-align: right;\n",
       "    }\n",
       "</style>\n",
       "<table border=\"1\" class=\"dataframe\">\n",
       "  <thead>\n",
       "    <tr style=\"text-align: right;\">\n",
       "      <th></th>\n",
       "      <th>admitted_ts</th>\n",
       "      <th>age</th>\n",
       "      <th>ambulance_call</th>\n",
       "      <th>blood_sugar_reading</th>\n",
       "      <th>days_since_last_visit</th>\n",
       "      <th>has_diabetes</th>\n",
       "      <th>hospital</th>\n",
       "      <th>hours_hospitalized</th>\n",
       "      <th>hydration_level</th>\n",
       "      <th>id</th>\n",
       "      <th>insulin</th>\n",
       "      <th>marital_status</th>\n",
       "      <th>no_primary_dr</th>\n",
       "      <th>patient_name</th>\n",
       "      <th>private_insurance</th>\n",
       "      <th>released_sameday</th>\n",
       "      <th>ssn</th>\n",
       "      <th>symptom_code</th>\n",
       "    </tr>\n",
       "  </thead>\n",
       "  <tbody>\n",
       "    <tr>\n",
       "      <th>0</th>\n",
       "      <td>2018-05-09 12:06:28</td>\n",
       "      <td>49</td>\n",
       "      <td>1</td>\n",
       "      <td>108</td>\n",
       "      <td>99</td>\n",
       "      <td>1</td>\n",
       "      <td>district</td>\n",
       "      <td>15</td>\n",
       "      <td>6</td>\n",
       "      <td>1000</td>\n",
       "      <td>1</td>\n",
       "      <td>single</td>\n",
       "      <td>False</td>\n",
       "      <td>Rachel Shelton</td>\n",
       "      <td>0</td>\n",
       "      <td>0</td>\n",
       "      <td>743-97-4081</td>\n",
       "      <td>4</td>\n",
       "    </tr>\n",
       "    <tr>\n",
       "      <th>1</th>\n",
       "      <td>2018-05-12 10:02:55</td>\n",
       "      <td>82</td>\n",
       "      <td>1</td>\n",
       "      <td>70</td>\n",
       "      <td>100</td>\n",
       "      <td>1</td>\n",
       "      <td>general</td>\n",
       "      <td>22</td>\n",
       "      <td>1</td>\n",
       "      <td>1001</td>\n",
       "      <td>1</td>\n",
       "      <td>married</td>\n",
       "      <td>False</td>\n",
       "      <td>Barbara Medina</td>\n",
       "      <td>0</td>\n",
       "      <td>0</td>\n",
       "      <td>698-10-2230</td>\n",
       "      <td>3</td>\n",
       "    </tr>\n",
       "    <tr>\n",
       "      <th>2</th>\n",
       "      <td>2018-05-13 12:25:17</td>\n",
       "      <td>71</td>\n",
       "      <td>1</td>\n",
       "      <td>100</td>\n",
       "      <td>78</td>\n",
       "      <td>1</td>\n",
       "      <td>northern</td>\n",
       "      <td>1</td>\n",
       "      <td>4</td>\n",
       "      <td>1002</td>\n",
       "      <td>1</td>\n",
       "      <td>no_answer</td>\n",
       "      <td>True</td>\n",
       "      <td>Kaitlyn Daniels</td>\n",
       "      <td>0</td>\n",
       "      <td>1</td>\n",
       "      <td>540-83-4297</td>\n",
       "      <td>2</td>\n",
       "    </tr>\n",
       "    <tr>\n",
       "      <th>3</th>\n",
       "      <td>2018-05-14 12:20:08</td>\n",
       "      <td>87</td>\n",
       "      <td>0</td>\n",
       "      <td>113</td>\n",
       "      <td>72</td>\n",
       "      <td>1</td>\n",
       "      <td>general</td>\n",
       "      <td>22</td>\n",
       "      <td>4</td>\n",
       "      <td>1003</td>\n",
       "      <td>1</td>\n",
       "      <td>no_answer</td>\n",
       "      <td>False</td>\n",
       "      <td>William Reyes</td>\n",
       "      <td>1</td>\n",
       "      <td>0</td>\n",
       "      <td>282-96-8755</td>\n",
       "      <td>0</td>\n",
       "    </tr>\n",
       "    <tr>\n",
       "      <th>4</th>\n",
       "      <td>2018-05-17 08:35:23</td>\n",
       "      <td>53</td>\n",
       "      <td>1</td>\n",
       "      <td>93</td>\n",
       "      <td>80</td>\n",
       "      <td>1</td>\n",
       "      <td>district</td>\n",
       "      <td>17</td>\n",
       "      <td>8</td>\n",
       "      <td>1004</td>\n",
       "      <td>0</td>\n",
       "      <td>no_answer</td>\n",
       "      <td>True</td>\n",
       "      <td>Eric Booth</td>\n",
       "      <td>0</td>\n",
       "      <td>0</td>\n",
       "      <td>130-25-8918</td>\n",
       "      <td>8</td>\n",
       "    </tr>\n",
       "  </tbody>\n",
       "</table>\n",
       "</div>"
      ],
      "text/plain": [
       "           admitted_ts  age  ambulance_call  blood_sugar_reading  \\\n",
       "0  2018-05-09 12:06:28   49               1                  108   \n",
       "1  2018-05-12 10:02:55   82               1                   70   \n",
       "2  2018-05-13 12:25:17   71               1                  100   \n",
       "3  2018-05-14 12:20:08   87               0                  113   \n",
       "4  2018-05-17 08:35:23   53               1                   93   \n",
       "\n",
       "   days_since_last_visit  has_diabetes  hospital  hours_hospitalized  \\\n",
       "0                     99             1  district                  15   \n",
       "1                    100             1   general                  22   \n",
       "2                     78             1  northern                   1   \n",
       "3                     72             1   general                  22   \n",
       "4                     80             1  district                  17   \n",
       "\n",
       "   hydration_level    id  insulin marital_status  no_primary_dr  \\\n",
       "0                6  1000        1         single          False   \n",
       "1                1  1001        1        married          False   \n",
       "2                4  1002        1      no_answer           True   \n",
       "3                4  1003        1      no_answer          False   \n",
       "4                8  1004        0      no_answer           True   \n",
       "\n",
       "      patient_name  private_insurance  released_sameday          ssn  \\\n",
       "0   Rachel Shelton                  0                 0  743-97-4081   \n",
       "1   Barbara Medina                  0                 0  698-10-2230   \n",
       "2  Kaitlyn Daniels                  0                 1  540-83-4297   \n",
       "3    William Reyes                  1                 0  282-96-8755   \n",
       "4       Eric Booth                  0                 0  130-25-8918   \n",
       "\n",
       "   symptom_code  \n",
       "0             4  \n",
       "1             3  \n",
       "2             2  \n",
       "3             0  \n",
       "4             8  "
      ]
     },
     "execution_count": 6,
     "metadata": {},
     "output_type": "execute_result"
    }
   ],
   "source": [
    "df.head()"
   ]
  },
  {
   "cell_type": "code",
   "execution_count": 11,
   "metadata": {},
   "outputs": [
    {
     "name": "stdout",
     "output_type": "stream",
     "text": [
      "Collecting chardet\n",
      "  Downloading chardet-5.2.0-py3-none-any.whl.metadata (3.4 kB)\n",
      "Downloading chardet-5.2.0-py3-none-any.whl (199 kB)\n",
      "Installing collected packages: chardet\n",
      "Successfully installed chardet-5.2.0\n",
      "Note: you may need to restart the kernel to use updated packages.\n"
     ]
    }
   ],
   "source": [
    "pip install chardet\n"
   ]
  },
  {
   "cell_type": "code",
   "execution_count": 12,
   "metadata": {},
   "outputs": [
    {
     "name": "stdout",
     "output_type": "stream",
     "text": [
      "5.2.0\n"
     ]
    }
   ],
   "source": [
    "import chardet\n",
    "print(chardet.__version__)\n"
   ]
  },
  {
   "cell_type": "code",
   "execution_count": 14,
   "metadata": {},
   "outputs": [
    {
     "name": "stdout",
     "output_type": "stream",
     "text": [
      "Codificación detectada: ascii\n"
     ]
    }
   ],
   "source": [
    "import chardet\n",
    "\n",
    "archivo = 'health_data.csv'\n",
    "\n",
    "with open(archivo, 'rb') as f:\n",
    "    resultado = chardet.detect(f.read())\n",
    "    print(f\"Codificación detectada: {resultado['encoding']}\")\n"
   ]
  },
  {
   "cell_type": "code",
   "execution_count": 17,
   "metadata": {},
   "outputs": [
    {
     "name": "stdout",
     "output_type": "stream",
     "text": [
      "Separador detectado: 'admitted_ts'\n"
     ]
    }
   ],
   "source": [
    "import pandas as pd\n",
    "\n",
    "archivo = 'health_data.csv'\n",
    "\n",
    "try:\n",
    "    # Detectar separador automáticamente\n",
    "    df_temp = pd.read_csv(archivo, sep=None, engine='python')\n",
    "    separador = df_temp.columns[0]\n",
    "    print(f\"Separador detectado: '{separador}'\")\n",
    "except Exception as e:\n",
    "    print(f\"Error: {e}\")\n"
   ]
  },
  {
   "cell_type": "code",
   "execution_count": 18,
   "metadata": {},
   "outputs": [
    {
     "data": {
      "text/html": [
       "<div>\n",
       "<style scoped>\n",
       "    .dataframe tbody tr th:only-of-type {\n",
       "        vertical-align: middle;\n",
       "    }\n",
       "\n",
       "    .dataframe tbody tr th {\n",
       "        vertical-align: top;\n",
       "    }\n",
       "\n",
       "    .dataframe thead th {\n",
       "        text-align: right;\n",
       "    }\n",
       "</style>\n",
       "<table border=\"1\" class=\"dataframe\">\n",
       "  <thead>\n",
       "    <tr style=\"text-align: right;\">\n",
       "      <th></th>\n",
       "      <th>0</th>\n",
       "      <th>1</th>\n",
       "      <th>2</th>\n",
       "      <th>3</th>\n",
       "      <th>4</th>\n",
       "      <th>5</th>\n",
       "      <th>6</th>\n",
       "      <th>7</th>\n",
       "      <th>8</th>\n",
       "      <th>9</th>\n",
       "      <th>10</th>\n",
       "      <th>11</th>\n",
       "      <th>12</th>\n",
       "      <th>13</th>\n",
       "      <th>14</th>\n",
       "      <th>15</th>\n",
       "      <th>16</th>\n",
       "      <th>17</th>\n",
       "    </tr>\n",
       "  </thead>\n",
       "  <tbody>\n",
       "    <tr>\n",
       "      <th>0</th>\n",
       "      <td>admitted_ts</td>\n",
       "      <td>age</td>\n",
       "      <td>ambulance_call</td>\n",
       "      <td>blood_sugar_reading</td>\n",
       "      <td>days_since_last_visit</td>\n",
       "      <td>has_diabetes</td>\n",
       "      <td>hospital</td>\n",
       "      <td>hours_hospitalized</td>\n",
       "      <td>hydration_level</td>\n",
       "      <td>id</td>\n",
       "      <td>insulin</td>\n",
       "      <td>marital_status</td>\n",
       "      <td>no_primary_dr</td>\n",
       "      <td>patient_name</td>\n",
       "      <td>private_insurance</td>\n",
       "      <td>released_sameday</td>\n",
       "      <td>ssn</td>\n",
       "      <td>symptom_code</td>\n",
       "    </tr>\n",
       "    <tr>\n",
       "      <th>1</th>\n",
       "      <td>2018-05-09 12:06:28</td>\n",
       "      <td>49</td>\n",
       "      <td>1</td>\n",
       "      <td>108</td>\n",
       "      <td>99</td>\n",
       "      <td>1</td>\n",
       "      <td>district</td>\n",
       "      <td>15</td>\n",
       "      <td>6</td>\n",
       "      <td>1000</td>\n",
       "      <td>1</td>\n",
       "      <td>single</td>\n",
       "      <td>False</td>\n",
       "      <td>Rachel Shelton</td>\n",
       "      <td>0</td>\n",
       "      <td>0</td>\n",
       "      <td>743-97-4081</td>\n",
       "      <td>4</td>\n",
       "    </tr>\n",
       "    <tr>\n",
       "      <th>2</th>\n",
       "      <td>2018-05-12 10:02:55</td>\n",
       "      <td>82</td>\n",
       "      <td>1</td>\n",
       "      <td>70</td>\n",
       "      <td>100</td>\n",
       "      <td>1</td>\n",
       "      <td>general</td>\n",
       "      <td>22</td>\n",
       "      <td>1</td>\n",
       "      <td>1001</td>\n",
       "      <td>1</td>\n",
       "      <td>married</td>\n",
       "      <td>False</td>\n",
       "      <td>Barbara Medina</td>\n",
       "      <td>0</td>\n",
       "      <td>0</td>\n",
       "      <td>698-10-2230</td>\n",
       "      <td>3</td>\n",
       "    </tr>\n",
       "    <tr>\n",
       "      <th>3</th>\n",
       "      <td>2018-05-13 12:25:17</td>\n",
       "      <td>71</td>\n",
       "      <td>1</td>\n",
       "      <td>100</td>\n",
       "      <td>78</td>\n",
       "      <td>1</td>\n",
       "      <td>northern</td>\n",
       "      <td>1</td>\n",
       "      <td>4</td>\n",
       "      <td>1002</td>\n",
       "      <td>1</td>\n",
       "      <td>no_answer</td>\n",
       "      <td>True</td>\n",
       "      <td>Kaitlyn Daniels</td>\n",
       "      <td>0</td>\n",
       "      <td>1</td>\n",
       "      <td>540-83-4297</td>\n",
       "      <td>2</td>\n",
       "    </tr>\n",
       "    <tr>\n",
       "      <th>4</th>\n",
       "      <td>2018-05-14 12:20:08</td>\n",
       "      <td>87</td>\n",
       "      <td>0</td>\n",
       "      <td>113</td>\n",
       "      <td>72</td>\n",
       "      <td>1</td>\n",
       "      <td>general</td>\n",
       "      <td>22</td>\n",
       "      <td>4</td>\n",
       "      <td>1003</td>\n",
       "      <td>1</td>\n",
       "      <td>no_answer</td>\n",
       "      <td>False</td>\n",
       "      <td>William Reyes</td>\n",
       "      <td>1</td>\n",
       "      <td>0</td>\n",
       "      <td>282-96-8755</td>\n",
       "      <td>0</td>\n",
       "    </tr>\n",
       "  </tbody>\n",
       "</table>\n",
       "</div>"
      ],
      "text/plain": [
       "                    0    1               2                    3   \\\n",
       "0          admitted_ts  age  ambulance_call  blood_sugar_reading   \n",
       "1  2018-05-09 12:06:28   49               1                  108   \n",
       "2  2018-05-12 10:02:55   82               1                   70   \n",
       "3  2018-05-13 12:25:17   71               1                  100   \n",
       "4  2018-05-14 12:20:08   87               0                  113   \n",
       "\n",
       "                      4             5         6                   7   \\\n",
       "0  days_since_last_visit  has_diabetes  hospital  hours_hospitalized   \n",
       "1                     99             1  district                  15   \n",
       "2                    100             1   general                  22   \n",
       "3                     78             1  northern                   1   \n",
       "4                     72             1   general                  22   \n",
       "\n",
       "                8     9        10              11             12  \\\n",
       "0  hydration_level    id  insulin  marital_status  no_primary_dr   \n",
       "1                6  1000        1          single          False   \n",
       "2                1  1001        1         married          False   \n",
       "3                4  1002        1       no_answer           True   \n",
       "4                4  1003        1       no_answer          False   \n",
       "\n",
       "                13                 14                15           16  \\\n",
       "0     patient_name  private_insurance  released_sameday          ssn   \n",
       "1   Rachel Shelton                  0                 0  743-97-4081   \n",
       "2   Barbara Medina                  0                 0  698-10-2230   \n",
       "3  Kaitlyn Daniels                  0                 1  540-83-4297   \n",
       "4    William Reyes                  1                 0  282-96-8755   \n",
       "\n",
       "             17  \n",
       "0  symptom_code  \n",
       "1             4  \n",
       "2             3  \n",
       "3             2  \n",
       "4             0  "
      ]
     },
     "execution_count": 18,
     "metadata": {},
     "output_type": "execute_result"
    }
   ],
   "source": [
    "import pandas as pd\n",
    "\n",
    "archivo = 'health_data.csv'\n",
    "\n",
    "df_healt = pd.read_csv(archivo, sep=None, engine='python', header=None)\n",
    "df_healt.head()\n"
   ]
  },
  {
   "cell_type": "code",
   "execution_count": 19,
   "metadata": {},
   "outputs": [],
   "source": [
    "df_healt = pd.read_csv(archivo, sep=',', encoding='ascii')\n"
   ]
  },
  {
   "cell_type": "code",
   "execution_count": 20,
   "metadata": {},
   "outputs": [
    {
     "name": "stdout",
     "output_type": "stream",
     "text": [
      "admitted_ts,age,ambulance_call,blood_sugar_reading,days_since_last_visit,has_diabetes,hospital,hours_hospitalized,hydration_level,id,insulin,marital_status,no_primary_dr,patient_name,private_insurance,released_sameday,ssn,symptom_code\n",
      "\n",
      "2018-05-09 12:06:28,49,1,108,99,1,district,15,6,1000,1,single,False,Rachel Shelton,0,0,743-97-4081,4\n",
      "\n",
      "2018-05-12 10:02:55,82,1,70,100,1,general,22,1,1001,1,married,False,Barbara Medina,0,0,698-10-2230,3\n",
      "\n",
      "2018-05-13 12:25:17,71,1,100,78,1,northern,1,4,1002,1,no_answer,True,Kaitlyn Daniels,0,1,540-83-4297,2\n",
      "\n",
      "2018-05-14 12:20:08,87,0,113,72,1,general,22,4,1003,1,no_answer,False,William Reyes,1,0,282-96-8755,0\n",
      "\n"
     ]
    }
   ],
   "source": [
    "with open(archivo, 'r', encoding='ascii') as f:\n",
    "    for i in range(5):\n",
    "        print(f.readline())\n"
   ]
  },
  {
   "cell_type": "markdown",
   "metadata": {},
   "source": [
    "### Importando Libreria y mostrando información del DataFrame\n",
    "#### Explicacion del código\n",
    "1. *pd.read_csv()*: carga el archivo .CSV.\n",
    "2. *sep=','*: Especifica que las columnas estan separadas por comas.\n",
    "3. *encoding='ascii'*: Usa la codificación detectada (ascii).\n",
    "4. *df_healt.info()*: Muestra información sobre:\n",
    "**Numero de filas y columnas;** \n",
    "**Tipos de datos de cada columna;**\n",
    "**Cantidad de valores no nulos**"
   ]
  },
  {
   "cell_type": "code",
   "execution_count": 21,
   "metadata": {},
   "outputs": [
    {
     "name": "stdout",
     "output_type": "stream",
     "text": [
      "<class 'pandas.core.frame.DataFrame'>\n",
      "RangeIndex: 1000 entries, 0 to 999\n",
      "Data columns (total 18 columns):\n",
      " #   Column                 Non-Null Count  Dtype \n",
      "---  ------                 --------------  ----- \n",
      " 0   admitted_ts            1000 non-null   object\n",
      " 1   age                    1000 non-null   int64 \n",
      " 2   ambulance_call         1000 non-null   int64 \n",
      " 3   blood_sugar_reading    1000 non-null   int64 \n",
      " 4   days_since_last_visit  1000 non-null   int64 \n",
      " 5   has_diabetes           1000 non-null   int64 \n",
      " 6   hospital               1000 non-null   object\n",
      " 7   hours_hospitalized     1000 non-null   int64 \n",
      " 8   hydration_level        1000 non-null   int64 \n",
      " 9   id                     1000 non-null   int64 \n",
      " 10  insulin                1000 non-null   int64 \n",
      " 11  marital_status         1000 non-null   object\n",
      " 12  no_primary_dr          1000 non-null   bool  \n",
      " 13  patient_name           1000 non-null   object\n",
      " 14  private_insurance      1000 non-null   int64 \n",
      " 15  released_sameday       1000 non-null   int64 \n",
      " 16  ssn                    1000 non-null   object\n",
      " 17  symptom_code           1000 non-null   int64 \n",
      "dtypes: bool(1), int64(12), object(5)\n",
      "memory usage: 133.9+ KB\n"
     ]
    }
   ],
   "source": [
    "import pandas as pd\n",
    "\n",
    "# Ruta del archivo CSV\n",
    "archivo = 'health_data.csv'\n",
    "\n",
    "# Importar el archivo CSV con separador de comas\n",
    "df_healt = pd.read_csv(archivo, sep=',', encoding='ascii')\n",
    "\n",
    "# Mostrar información sobre el DataFrame\n",
    "df_healt.info()\n"
   ]
  },
  {
   "cell_type": "markdown",
   "metadata": {},
   "source": [
    "#### Cantidad de filas en el archivo .CSV\n",
    "\n",
    "*Explicacion del codigo para filas*\n",
    "\n",
    "1. df_healt.shape[0]: Devuelve el numero de filas del DataFrame.\n",
    "2. shape[1]: Si quisiera saber el numero de columnas, usaria esto."
   ]
  },
  {
   "cell_type": "code",
   "execution_count": 22,
   "metadata": {},
   "outputs": [
    {
     "name": "stdout",
     "output_type": "stream",
     "text": [
      "El archivo CSV tiene 1000 filas.\n"
     ]
    }
   ],
   "source": [
    "num_filas = df_healt.shape[0]\n",
    "print(f\"El archivo CSV tiene {num_filas} filas.\")\n"
   ]
  },
  {
   "cell_type": "markdown",
   "metadata": {},
   "source": [
    "### Cantidad de columnas en el archivo .CSV \n",
    "*Explicacion del código para Columnas*\n",
    "##### Para saber cuantas columnas tiene el DataFrame df_healt, se puede usar el siguiente codigo:\n",
    "\n",
    "num_columnas = df_healt.shape[1]\n",
    "print(f\"El archivo CSV tiene {num_columnas} columnas.\")\n",
    "\n",
    "*Explicacion*\n",
    "* df_healt.shape[1]: Devuelve el numero de columnas del DataFrame."
   ]
  },
  {
   "cell_type": "code",
   "execution_count": 23,
   "metadata": {},
   "outputs": [
    {
     "name": "stdout",
     "output_type": "stream",
     "text": [
      "El archivo CSV tiene 18 columnas.\n"
     ]
    }
   ],
   "source": [
    "num_columnas = df_healt.shape[1]\n",
    "print(f\"El archivo CSV tiene {num_columnas} columnas.\")\n"
   ]
  },
  {
   "cell_type": "markdown",
   "metadata": {},
   "source": [
    "### Tipos de datos del DataFrame\n",
    "\n",
    "Para saber que tipo de datos tiene cada columna del DataFrame, se puede utilizar el metodo **.dtypes** en pandas, que nos va a mostrar el tipo de dato de cada columna, es decir, se utiliza el siguiente código:\n",
    "\n",
    "print(df_healt.dtypes)\n",
    "\n",
    "*Explicación*\n",
    "\n",
    "1. *df_healt.types* = muestra el tipo de datos (por ejemplo, int64, float64)\n",
    "2. *objetc* = para cadenas de texto, de cada columna del DataFrame"
   ]
  },
  {
   "cell_type": "code",
   "execution_count": 26,
   "metadata": {},
   "outputs": [
    {
     "name": "stdout",
     "output_type": "stream",
     "text": [
      "admitted_ts              object\n",
      "age                       int64\n",
      "ambulance_call            int64\n",
      "blood_sugar_reading       int64\n",
      "days_since_last_visit     int64\n",
      "has_diabetes              int64\n",
      "hospital                 object\n",
      "hours_hospitalized        int64\n",
      "hydration_level           int64\n",
      "id                        int64\n",
      "insulin                   int64\n",
      "marital_status           object\n",
      "no_primary_dr              bool\n",
      "patient_name             object\n",
      "private_insurance         int64\n",
      "released_sameday          int64\n",
      "ssn                      object\n",
      "symptom_code              int64\n",
      "dtype: object\n"
     ]
    }
   ],
   "source": [
    "print(df_healt.dtypes)\n"
   ]
  },
  {
   "cell_type": "markdown",
   "metadata": {},
   "source": [
    "### Mostrando las cinco primeras filas del DataFrame"
   ]
  },
  {
   "cell_type": "code",
   "execution_count": 27,
   "metadata": {},
   "outputs": [
    {
     "name": "stdout",
     "output_type": "stream",
     "text": [
      "           admitted_ts  age  ambulance_call  blood_sugar_reading  \\\n",
      "0  2018-05-09 12:06:28   49               1                  108   \n",
      "1  2018-05-12 10:02:55   82               1                   70   \n",
      "2  2018-05-13 12:25:17   71               1                  100   \n",
      "3  2018-05-14 12:20:08   87               0                  113   \n",
      "4  2018-05-17 08:35:23   53               1                   93   \n",
      "\n",
      "   days_since_last_visit  has_diabetes  hospital  hours_hospitalized  \\\n",
      "0                     99             1  district                  15   \n",
      "1                    100             1   general                  22   \n",
      "2                     78             1  northern                   1   \n",
      "3                     72             1   general                  22   \n",
      "4                     80             1  district                  17   \n",
      "\n",
      "   hydration_level    id  insulin marital_status  no_primary_dr  \\\n",
      "0                6  1000        1         single          False   \n",
      "1                1  1001        1        married          False   \n",
      "2                4  1002        1      no_answer           True   \n",
      "3                4  1003        1      no_answer          False   \n",
      "4                8  1004        0      no_answer           True   \n",
      "\n",
      "      patient_name  private_insurance  released_sameday          ssn  \\\n",
      "0   Rachel Shelton                  0                 0  743-97-4081   \n",
      "1   Barbara Medina                  0                 0  698-10-2230   \n",
      "2  Kaitlyn Daniels                  0                 1  540-83-4297   \n",
      "3    William Reyes                  1                 0  282-96-8755   \n",
      "4       Eric Booth                  0                 0  130-25-8918   \n",
      "\n",
      "   symptom_code  \n",
      "0             4  \n",
      "1             3  \n",
      "2             2  \n",
      "3             0  \n",
      "4             8  \n"
     ]
    }
   ],
   "source": [
    "print(df_healt.head())\n"
   ]
  },
  {
   "cell_type": "code",
   "execution_count": 28,
   "metadata": {},
   "outputs": [
    {
     "name": "stdout",
     "output_type": "stream",
     "text": [
      "admitted_ts              object\n",
      "age                       int64\n",
      "ambulance_call            int64\n",
      "blood_sugar_reading       int64\n",
      "days_since_last_visit     int64\n",
      "has_diabetes              int64\n",
      "hospital                 object\n",
      "hours_hospitalized        int64\n",
      "hydration_level           int64\n",
      "id                        int64\n",
      "insulin                   int64\n",
      "marital_status           object\n",
      "no_primary_dr              bool\n",
      "patient_name             object\n",
      "private_insurance         int64\n",
      "released_sameday          int64\n",
      "ssn                      object\n",
      "symptom_code              int64\n",
      "dtype: object\n"
     ]
    }
   ],
   "source": [
    "print(df_healt.dtypes)\n"
   ]
  },
  {
   "cell_type": "code",
   "execution_count": 30,
   "metadata": {},
   "outputs": [
    {
     "name": "stdout",
     "output_type": "stream",
     "text": [
      "admitted_ts              datetime64[ns]\n",
      "age                               int64\n",
      "ambulance_call                     bool\n",
      "blood_sugar_reading               int64\n",
      "days_since_last_visit             int64\n",
      "has_diabetes                       bool\n",
      "hospital                         object\n",
      "hours_hospitalized                int64\n",
      "hydration_level                   int64\n",
      "id                                int64\n",
      "insulin                            bool\n",
      "marital_status                   object\n",
      "no_primary_dr                      bool\n",
      "patient_name                     object\n",
      "private_insurance                  bool\n",
      "released_sameday                   bool\n",
      "ssn                              object\n",
      "symptom_code                      int64\n",
      "dtype: object\n"
     ]
    }
   ],
   "source": [
    "import pandas as pd\n",
    "\n",
    "# Convertir a datetime\n",
    "df_healt['admitted_ts'] = pd.to_datetime(df_healt['admitted_ts'])\n",
    "\n",
    "# Convertir a booleanos donde sea necesario\n",
    "df_healt['ambulance_call'] = df_healt['ambulance_call'].astype(bool)\n",
    "df_healt['has_diabetes'] = df_healt['has_diabetes'].astype(bool)\n",
    "df_healt['insulin'] = df_healt['insulin'].astype(bool)\n",
    "df_healt['private_insurance'] = df_healt['private_insurance'].astype(bool)\n",
    "df_healt['released_sameday'] = df_healt['released_sameday'].astype(bool)\n",
    "\n",
    "# Convertir a string donde sea necesario\n",
    "df_healt['hospital'] = df_healt['hospital'].astype(str)\n",
    "df_healt['marital_status'] = df_healt['marital_status'].astype(str)\n",
    "df_healt['patient_name'] = df_healt['patient_name'].astype(str)\n",
    "df_healt['ssn'] = df_healt['ssn'].astype(str)\n",
    "\n",
    "# Verificar los tipos después de la conversión\n",
    "print(df_healt.dtypes)\n"
   ]
  },
  {
   "cell_type": "code",
   "execution_count": 31,
   "metadata": {},
   "outputs": [
    {
     "name": "stdout",
     "output_type": "stream",
     "text": [
      "admitted_ts              0\n",
      "age                      0\n",
      "ambulance_call           0\n",
      "blood_sugar_reading      0\n",
      "days_since_last_visit    0\n",
      "has_diabetes             0\n",
      "hospital                 0\n",
      "hours_hospitalized       0\n",
      "hydration_level          0\n",
      "id                       0\n",
      "insulin                  0\n",
      "marital_status           0\n",
      "no_primary_dr            0\n",
      "patient_name             0\n",
      "private_insurance        0\n",
      "released_sameday         0\n",
      "ssn                      0\n",
      "symptom_code             0\n",
      "dtype: int64\n"
     ]
    }
   ],
   "source": [
    "print(df_healt.isnull().sum())\n"
   ]
  },
  {
   "cell_type": "code",
   "execution_count": 32,
   "metadata": {},
   "outputs": [
    {
     "name": "stdout",
     "output_type": "stream",
     "text": [
      "admitted_ts              0\n",
      "age                      0\n",
      "ambulance_call           0\n",
      "blood_sugar_reading      0\n",
      "days_since_last_visit    0\n",
      "has_diabetes             0\n",
      "hospital                 0\n",
      "hours_hospitalized       0\n",
      "hydration_level          0\n",
      "id                       0\n",
      "insulin                  0\n",
      "marital_status           0\n",
      "no_primary_dr            0\n",
      "patient_name             0\n",
      "private_insurance        0\n",
      "released_sameday         0\n",
      "ssn                      0\n",
      "symptom_code             0\n",
      "dtype: int64\n",
      "admitted_ts              datetime64[ns]\n",
      "age                               int64\n",
      "ambulance_call                     bool\n",
      "blood_sugar_reading               int64\n",
      "days_since_last_visit             int64\n",
      "has_diabetes                       bool\n",
      "hospital                         object\n",
      "hours_hospitalized                int64\n",
      "hydration_level                   int64\n",
      "id                                int64\n",
      "insulin                            bool\n",
      "marital_status                   object\n",
      "no_primary_dr                      bool\n",
      "patient_name                     object\n",
      "private_insurance                  bool\n",
      "released_sameday                   bool\n",
      "ssn                              object\n",
      "symptom_code                      int64\n",
      "dtype: object\n"
     ]
    }
   ],
   "source": [
    "import pandas as pd\n",
    "\n",
    "# 1. Verificar valores nulos\n",
    "print(df_healt.isnull().sum())\n",
    "\n",
    "# 2. Rellenar o eliminar valores nulos (ejemplo: eliminar valores nulos en 'hospital')\n",
    "df_healt.dropna(subset=['hospital'], inplace=True)\n",
    "\n",
    "# 3. Convertir a datetime 'admitted_ts' con manejo de errores\n",
    "df_healt['admitted_ts'] = pd.to_datetime(df_healt['admitted_ts'], errors='coerce')\n",
    "\n",
    "# 4. Convertir columnas booleanas (si es necesario, con valores como 'yes', 'no')\n",
    "df_healt['ambulance_call'] = df_healt['ambulance_call'].replace({'yes': True, 'no': False})\n",
    "df_healt['ambulance_call'] = df_healt['ambulance_call'].astype(bool)\n",
    "\n",
    "df_healt['has_diabetes'] = df_healt['has_diabetes'].astype(bool)\n",
    "df_healt['insulin'] = df_healt['insulin'].astype(bool)\n",
    "df_healt['private_insurance'] = df_healt['private_insurance'].astype(bool)\n",
    "df_healt['released_sameday'] = df_healt['released_sameday'].astype(bool)\n",
    "\n",
    "# 5. Convertir columnas de texto a str\n",
    "df_healt['hospital'] = df_healt['hospital'].astype(str)\n",
    "df_healt['marital_status'] = df_healt['marital_status'].astype(str)\n",
    "df_healt['patient_name'] = df_healt['patient_name'].astype(str)\n",
    "df_healt['ssn'] = df_healt['ssn'].astype(str)\n",
    "\n",
    "# Verificar tipos después de las conversiones\n",
    "print(df_healt.dtypes)\n"
   ]
  },
  {
   "cell_type": "code",
   "execution_count": 33,
   "metadata": {},
   "outputs": [],
   "source": [
    "# Muestra más líneas de la salida\n",
    "pd.set_option('display.max_rows', 500)  # Ajusta el número de filas visibles\n",
    "pd.set_option('display.max_columns', 50)  # Ajusta el número de columnas visibles\n"
   ]
  },
  {
   "cell_type": "code",
   "execution_count": 36,
   "metadata": {},
   "outputs": [
    {
     "name": "stdout",
     "output_type": "stream",
     "text": [
      "admitted_ts              datetime64[ns]\n",
      "age                               int64\n",
      "ambulance_call                     bool\n",
      "blood_sugar_reading               int64\n",
      "days_since_last_visit             int64\n",
      "has_diabetes                       bool\n",
      "hospital                         object\n",
      "hours_hospitalized                int64\n",
      "hydration_level                   int64\n",
      "id                                int64\n",
      "insulin                            bool\n",
      "marital_status                   object\n",
      "no_primary_dr                      bool\n",
      "patient_name                     object\n",
      "private_insurance                  bool\n",
      "released_sameday                   bool\n",
      "ssn                              object\n",
      "symptom_code                      int64\n",
      "dtype: object\n"
     ]
    }
   ],
   "source": [
    "# Verificar los tipos de datos después de las conversiones\n",
    "print(df_healt.dtypes)\n"
   ]
  },
  {
   "cell_type": "markdown",
   "metadata": {},
   "source": [
    "### Guardar el DataFrame\n",
    "\n",
    "Para guardar el DataFrame en el formato propio de Pandas, que es el formato Pickle, puedes usar el método to_pickle().\n",
    "Este código creará un archivo llamado df_health_dataframe.pkl en el directorio actual.\n",
    "\n",
    "Para cargar el archivo de nuevo:\n",
    "\n",
    "Si más adelante necesitas cargar el archivo Pickle guardado, puedes hacerlo con pd.read_pickle():\n",
    "\n",
    "##### Código para cargar el DataFrame desde el archivo Pickle\n",
    "df_healt_loaded = pd.read_pickle('df_health_dataframe.pkl')\n"
   ]
  },
  {
   "cell_type": "code",
   "execution_count": 38,
   "metadata": {},
   "outputs": [],
   "source": [
    "# Guardar el DataFrame en formato Pickle\n",
    "df_healt.to_pickle('df_health_dataframe.pkl')\n"
   ]
  },
  {
   "cell_type": "markdown",
   "metadata": {},
   "source": [
    "### Suma de todas las horas de hospitalización:"
   ]
  },
  {
   "cell_type": "code",
   "execution_count": 39,
   "metadata": {},
   "outputs": [
    {
     "name": "stdout",
     "output_type": "stream",
     "text": [
      "Suma de todas las horas de hospitalización: 10928\n"
     ]
    }
   ],
   "source": [
    "# Suma de todas las horas de hospitalización\n",
    "total_hours = df_healt['hours_hospitalized'].sum()\n",
    "print(f\"Suma de todas las horas de hospitalización: {total_hours}\")\n"
   ]
  },
  {
   "cell_type": "markdown",
   "metadata": {},
   "source": [
    "### Total de ganancias por hospitalización:"
   ]
  },
  {
   "cell_type": "code",
   "execution_count": 40,
   "metadata": {},
   "outputs": [
    {
     "name": "stdout",
     "output_type": "stream",
     "text": [
      "Total de ganancias por hospitalización: $273200\n"
     ]
    }
   ],
   "source": [
    "# Calcular el total de ganancias por hospitalización\n",
    "cost_per_hour = 25\n",
    "total_revenue = total_hours * cost_per_hour\n",
    "print(f\"Total de ganancias por hospitalización: ${total_revenue}\")\n"
   ]
  },
  {
   "cell_type": "markdown",
   "metadata": {},
   "source": [
    "### Calculo de la media de horas de hospitalización por paciente:"
   ]
  },
  {
   "cell_type": "code",
   "execution_count": 41,
   "metadata": {},
   "outputs": [
    {
     "name": "stdout",
     "output_type": "stream",
     "text": [
      "Media de horas de hospitalización por paciente: 10.928\n"
     ]
    }
   ],
   "source": [
    "# Calcular la media de horas de hospitalización por paciente\n",
    "average_hours = df_healt['hours_hospitalized'].mean()\n",
    "print(f\"Media de horas de hospitalización por paciente: {average_hours}\")\n"
   ]
  },
  {
   "cell_type": "markdown",
   "metadata": {},
   "source": [
    "### Numero de pacientes que han necesitado ambulancia:"
   ]
  },
  {
   "cell_type": "code",
   "execution_count": 42,
   "metadata": {},
   "outputs": [
    {
     "name": "stdout",
     "output_type": "stream",
     "text": [
      "Número de pacientes que han necesitado ambulancia: 504\n"
     ]
    }
   ],
   "source": [
    "# Número de pacientes que han necesitado ambulancia\n",
    "ambulance_needed = df_healt['ambulance_call'].sum()\n",
    "print(f\"Número de pacientes que han necesitado ambulancia: {ambulance_needed}\")\n"
   ]
  },
  {
   "cell_type": "markdown",
   "metadata": {},
   "source": [
    "### Numero de pacientes diabeticos:"
   ]
  },
  {
   "cell_type": "code",
   "execution_count": 43,
   "metadata": {},
   "outputs": [
    {
     "name": "stdout",
     "output_type": "stream",
     "text": [
      "Número de pacientes diabéticos: 754\n"
     ]
    }
   ],
   "source": [
    "# Número de pacientes diabéticos\n",
    "diabetic_patients = df_healt['has_diabetes'].sum()\n",
    "print(f\"Número de pacientes diabéticos: {diabetic_patients}\")\n"
   ]
  },
  {
   "cell_type": "markdown",
   "metadata": {},
   "source": [
    "### Numero de pacientes a los que se les inyecto insulina:"
   ]
  },
  {
   "cell_type": "code",
   "execution_count": 44,
   "metadata": {},
   "outputs": [
    {
     "name": "stdout",
     "output_type": "stream",
     "text": [
      "Número de pacientes a los que se les ha inyectado insulina: 492\n"
     ]
    }
   ],
   "source": [
    "# Número de pacientes a los que se les ha inyectado insulina\n",
    "insulin_injections = df_healt['insulin'].sum()\n",
    "print(f\"Número de pacientes a los que se les ha inyectado insulina: {insulin_injections}\")\n"
   ]
  },
  {
   "cell_type": "markdown",
   "metadata": {},
   "source": [
    "### Numero de pacientes con seguro privado de salud:"
   ]
  },
  {
   "cell_type": "code",
   "execution_count": 45,
   "metadata": {},
   "outputs": [
    {
     "name": "stdout",
     "output_type": "stream",
     "text": [
      "Número de pacientes con seguro privado de salud: 475\n"
     ]
    }
   ],
   "source": [
    "# Número de pacientes con seguro privado de salud\n",
    "private_insured_patients = df_healt['private_insurance'].sum()\n",
    "print(f\"Número de pacientes con seguro privado de salud: {private_insured_patients}\")\n"
   ]
  },
  {
   "cell_type": "markdown",
   "metadata": {},
   "source": [
    "### Numero de pacientes a los que se les dio el alta el mismo dia de ingreso:"
   ]
  },
  {
   "cell_type": "code",
   "execution_count": 46,
   "metadata": {},
   "outputs": [
    {
     "name": "stdout",
     "output_type": "stream",
     "text": [
      "Número de pacientes a los que se les dio el alta el mismo día de ingreso: 354\n"
     ]
    }
   ],
   "source": [
    "# Número de pacientes que se les dio el alta el mismo día de ingreso\n",
    "same_day_released = df_healt['released_sameday'].sum()\n",
    "print(f\"Número de pacientes a los que se les dio el alta el mismo día de ingreso: {same_day_released}\")\n"
   ]
  },
  {
   "cell_type": "markdown",
   "metadata": {},
   "source": [
    "Para crear un DataFrame o Series con los resultados de los calculos anteriores y representarlos graficamente en una grafica con barras, lo primero es organizar los resultados en un formato adecuado, una estructura tipo DataFrame o Series, luego usar Matplotlib para graficar los datos. Es decir:"
   ]
  },
  {
   "cell_type": "code",
   "execution_count": 47,
   "metadata": {},
   "outputs": [
    {
     "name": "stdout",
     "output_type": "stream",
     "text": [
      "         Concepto  Número de pacientes\n",
      "0      Ambulancia                  504\n",
      "1      Diabéticos                  754\n",
      "2        Insulina                  492\n",
      "3  Seguro privado                  475\n",
      "4  Alta mismo día                  354\n"
     ]
    }
   ],
   "source": [
    "import pandas as pd\n",
    "import matplotlib.pyplot as plt\n",
    "\n",
    "# Crear un diccionario con los resultados\n",
    "data = {\n",
    "    'Concepto': ['Ambulancia', 'Diabéticos', 'Insulina', 'Seguro privado', 'Alta mismo día'],\n",
    "    'Número de pacientes': [\n",
    "        ambulance_needed,\n",
    "        diabetic_patients,\n",
    "        insulin_injections,\n",
    "        private_insured_patients,\n",
    "        same_day_released\n",
    "    ]\n",
    "}\n",
    "\n",
    "# Crear un DataFrame a partir del diccionario\n",
    "df_results = pd.DataFrame(data)\n",
    "\n",
    "# Mostrar el DataFrame para verificar\n",
    "print(df_results)\n"
   ]
  },
  {
   "cell_type": "markdown",
   "metadata": {},
   "source": [
    "Ahora podemos graficar los resultados usando Matplotlib, para una visualizacion clara de los datos en una grafica de barras:"
   ]
  },
  {
   "cell_type": "code",
   "execution_count": 52,
   "metadata": {},
   "outputs": [
    {
     "data": {
      "image/png": "[encoded data removed]",
      "text/plain": [
       "<Figure size 1000x600 with 1 Axes>"
      ]
     },
     "metadata": {},
     "output_type": "display_data"
    },
    {
     "data": {
      "text/plain": [
       "<Figure size 1200x800 with 0 Axes>"
      ]
     },
     "execution_count": 52,
     "metadata": {},
     "output_type": "execute_result"
    },
    {
     "data": {
      "text/plain": [
       "<Figure size 1200x800 with 0 Axes>"
      ]
     },
     "metadata": {},
     "output_type": "display_data"
    }
   ],
   "source": [
    "# Graficar los resultados en una gráfica de barras\n",
    "plt.figure(figsize=(10, 6))\n",
    "plt.bar(df_results['Concepto'], df_results['Número de pacientes'], color='skyblue')\n",
    "\n",
    "# Añadir título y etiquetas\n",
    "plt.title('Número de Pacientes por Concepto', fontsize=14)\n",
    "plt.xlabel('Concepto', fontsize=12)\n",
    "plt.ylabel('Número de Pacientes', fontsize=12)\n",
    "\n",
    "# Mostrar la gráfica\n",
    "plt.xticks(rotation=45)  # Rotar las etiquetas del eje x para mejor visibilidad\n",
    "plt.show()\n",
    "\n",
    "# Ajustar el tamaño de la gráfica (por ejemplo, 12 de ancho y 8 de alto)\n",
    "plt.figure(figsize=(12, 8))\n",
    "\n"
   ]
  },
  {
   "cell_type": "markdown",
   "metadata": {},
   "source": [
    "Para realizar operaciones con bases de datos en SQLite desde Pyhton, lo primero que se necesita es obtener las funciones adecuadas para interactuar con la base de datos. Usare la biblioteca sqlite3 de Python, que proporciona una interfaz simple para trabajar con bases de datos SQLite.\n",
    "\n",
    "### 1. Conectando a la base de datos:"
   ]
  },
  {
   "cell_type": "code",
   "execution_count": 53,
   "metadata": {},
   "outputs": [],
   "source": [
    "import sqlite3\n",
    "\n",
    "def connect_to_db(db_name):\n",
    "    \"\"\"Conectar a la base de datos SQLite.\"\"\"\n",
    "    conn = sqlite3.connect(db_name)  # Se conecta o crea una base de datos\n",
    "    return conn\n"
   ]
  },
  {
   "cell_type": "markdown",
   "metadata": {},
   "source": [
    "### 2. Creando una tabla:"
   ]
  },
  {
   "cell_type": "code",
   "execution_count": 54,
   "metadata": {},
   "outputs": [],
   "source": [
    "def create_table(conn):\n",
    "    \"\"\"Crear una tabla en la base de datos.\"\"\"\n",
    "    cursor = conn.cursor()\n",
    "    cursor.execute('''CREATE TABLE IF NOT EXISTS health_data (\n",
    "                        id INTEGER PRIMARY KEY,\n",
    "                        ambulance_call INTEGER,\n",
    "                        has_diabetes INTEGER,\n",
    "                        insulin INTEGER,\n",
    "                        private_insurance INTEGER,\n",
    "                        released_sameday INTEGER,\n",
    "                        hours_hospitalized INTEGER\n",
    "                      )''')\n",
    "    conn.commit()\n"
   ]
  },
  {
   "cell_type": "markdown",
   "metadata": {},
   "source": [
    "### 3. Insertando datos en la tabla:"
   ]
  },
  {
   "cell_type": "code",
   "execution_count": 55,
   "metadata": {},
   "outputs": [],
   "source": [
    "def insert_data(conn, data):\n",
    "    \"\"\"Insertar datos en la tabla.\"\"\"\n",
    "    cursor = conn.cursor()\n",
    "    cursor.executemany('''INSERT INTO health_data (ambulance_call, has_diabetes, insulin, private_insurance, released_sameday, hours_hospitalized)\n",
    "                           VALUES (?, ?, ?, ?, ?, ?)''', data)\n",
    "    conn.commit()\n"
   ]
  },
  {
   "cell_type": "markdown",
   "metadata": {},
   "source": [
    "### 4. Realizando consulta en la base de datos:"
   ]
  },
  {
   "cell_type": "code",
   "execution_count": 56,
   "metadata": {},
   "outputs": [],
   "source": [
    "def query_data(conn, query):\n",
    "    \"\"\"Realizar una consulta en la base de datos.\"\"\"\n",
    "    cursor = conn.cursor()\n",
    "    cursor.execute(query)\n",
    "    result = cursor.fetchall()\n",
    "    return result\n"
   ]
  },
  {
   "cell_type": "markdown",
   "metadata": {},
   "source": [
    "### 5. Cerrando la conexión:"
   ]
  },
  {
   "cell_type": "code",
   "execution_count": 57,
   "metadata": {},
   "outputs": [],
   "source": [
    "def close_connection(conn):\n",
    "    \"\"\"Cerrar la conexión con la base de datos.\"\"\"\n",
    "    conn.close()\n"
   ]
  },
  {
   "cell_type": "markdown",
   "metadata": {},
   "source": [
    "Basicamente, estos son los pasos que se utilizan para pasar el contenido del DataFrame a la base de datos"
   ]
  },
  {
   "cell_type": "markdown",
   "metadata": {},
   "source": [
    "Para pasar el DataFrame df_healt a la base de datos y almacenarlo en una tabla llamada t_healt, se puede usar la funcion to_sql() de Pandas, que facilita la transferencia de datos desde un DataFrame a una tabla de base de datos.\n",
    "\n",
    "A continuación, el codigo para pasar el DataFrame a la base de datos:"
   ]
  },
  {
   "cell_type": "code",
   "execution_count": 58,
   "metadata": {},
   "outputs": [
    {
     "name": "stdout",
     "output_type": "stream",
     "text": [
      "           admitted_ts  age  ambulance_call  blood_sugar_reading  \\\n",
      "0  2018-05-09 12:06:28   49               1                  108   \n",
      "1  2018-05-12 10:02:55   82               1                   70   \n",
      "2  2018-05-13 12:25:17   71               1                  100   \n",
      "3  2018-05-14 12:20:08   87               0                  113   \n",
      "4  2018-05-17 08:35:23   53               1                   93   \n",
      "\n",
      "   days_since_last_visit  has_diabetes  hospital  hours_hospitalized  \\\n",
      "0                     99             1  district                  15   \n",
      "1                    100             1   general                  22   \n",
      "2                     78             1  northern                   1   \n",
      "3                     72             1   general                  22   \n",
      "4                     80             1  district                  17   \n",
      "\n",
      "   hydration_level    id  insulin marital_status  no_primary_dr  \\\n",
      "0                6  1000        1         single              0   \n",
      "1                1  1001        1        married              0   \n",
      "2                4  1002        1      no_answer              1   \n",
      "3                4  1003        1      no_answer              0   \n",
      "4                8  1004        0      no_answer              1   \n",
      "\n",
      "      patient_name  private_insurance  released_sameday          ssn  \\\n",
      "0   Rachel Shelton                  0                 0  743-97-4081   \n",
      "1   Barbara Medina                  0                 0  698-10-2230   \n",
      "2  Kaitlyn Daniels                  0                 1  540-83-4297   \n",
      "3    William Reyes                  1                 0  282-96-8755   \n",
      "4       Eric Booth                  0                 0  130-25-8918   \n",
      "\n",
      "   symptom_code  \n",
      "0             4  \n",
      "1             3  \n",
      "2             2  \n",
      "3             0  \n",
      "4             8  \n"
     ]
    }
   ],
   "source": [
    "import sqlite3\n",
    "import pandas as pd\n",
    "\n",
    "# Conectar a la base de datos (si no existe, se creará automáticamente)\n",
    "conn = sqlite3.connect('health_data.db')\n",
    "\n",
    "# Paso 1: Usar el método to_sql() de pandas para almacenar el DataFrame en la tabla t_healt\n",
    "df_healt.to_sql('t_healt', conn, if_exists='replace', index=False)\n",
    "\n",
    "# Paso 2: Confirmar que la tabla se ha creado correctamente\n",
    "query = \"SELECT * FROM t_healt LIMIT 5\"  # Consultar las primeras 5 filas\n",
    "result = pd.read_sql_query(query, conn)\n",
    "print(result)\n",
    "\n",
    "# Paso 3: Cerrar la conexión\n",
    "conn.close()\n"
   ]
  },
  {
   "cell_type": "markdown",
   "metadata": {},
   "source": [
    "#### Realizando consultas SQLite sobre la tabla t_healt directamente desde la base de datos healt_data.db usando SQLite y Pandas."
   ]
  },
  {
   "cell_type": "markdown",
   "metadata": {},
   "source": [
    "*Explicación de cada consulta*\n",
    "1. **Media de edad de personas con diabetes:**\n",
    "- Se calcula el promedio (AVG() ) de la columna **age** para las filas donde *has_diabetes = 1* (pacientes con diabetes).\n",
    "2. **Pacientes sin seguro medico hospitalizados mas de 10 horas:**\n",
    "- Se cuenta (*COUNT*()) el número de pacientes donde **private_insurance = 0** (sin seguro) y **hours_hospitalized > 10.**\n",
    "3. **Pacientes atendidos en cada hospital**\n",
    "- Se cuenta el numero de registros por *hospital* con *GROUP BY hospital.*\n",
    "4. **Nivel medio de hidratación por hospital:**\n",
    "- Se calcula promedio (*AVG()*) de *hydration_level* agrupado por hospital.\n",
    "\n",
    "\n",
    "### A continuación, el código de la consulta:"
   ]
  },
  {
   "cell_type": "code",
   "execution_count": 59,
   "metadata": {},
   "outputs": [
    {
     "name": "stdout",
     "output_type": "stream",
     "text": [
      "1. Media de edad de las personas con diabetes:\n",
      "   media_edad_diabeticos\n",
      "0              52.165782\n",
      "\n",
      "2. Pacientes sin seguro médico hospitalizados más de 10 horas:\n",
      "   pacientes_sin_seguro\n",
      "0                   275\n",
      "\n",
      "3. Número de pacientes atendidos en cada hospital:\n",
      "   hospital  total_pacientes\n",
      "0   central              237\n",
      "1  district              263\n",
      "2   general              243\n",
      "3  northern              257\n",
      "\n",
      "4. Nivel medio de hidratación de los pacientes en cada hospital:\n",
      "   hospital  media_hidratacion\n",
      "0   central           4.561181\n",
      "1  district           4.524715\n",
      "2   general           4.707819\n",
      "3  northern           4.478599\n"
     ]
    }
   ],
   "source": [
    "import sqlite3\n",
    "import pandas as pd\n",
    "\n",
    "# Conectar a la base de datos\n",
    "conn = sqlite3.connect('health_data.db')\n",
    "\n",
    "# 1. Media de edad de las personas con diabetes\n",
    "query_1 = \"\"\"\n",
    "SELECT AVG(age) AS media_edad_diabeticos\n",
    "FROM t_healt\n",
    "WHERE has_diabetes = 1\n",
    "\"\"\"\n",
    "media_edad_diabeticos = pd.read_sql_query(query_1, conn)\n",
    "print(\"1. Media de edad de las personas con diabetes:\")\n",
    "print(media_edad_diabeticos)\n",
    "\n",
    "# 2. Pacientes sin seguro médico hospitalizados más de 10 horas\n",
    "query_2 = \"\"\"\n",
    "SELECT COUNT(*) AS pacientes_sin_seguro\n",
    "FROM t_healt\n",
    "WHERE private_insurance = 0 AND hours_hospitalized > 10\n",
    "\"\"\"\n",
    "pacientes_sin_seguro = pd.read_sql_query(query_2, conn)\n",
    "print(\"\\n2. Pacientes sin seguro médico hospitalizados más de 10 horas:\")\n",
    "print(pacientes_sin_seguro)\n",
    "\n",
    "# 3. Número de pacientes atendidos en cada hospital\n",
    "query_3 = \"\"\"\n",
    "SELECT hospital, COUNT(*) AS total_pacientes\n",
    "FROM t_healt\n",
    "GROUP BY hospital\n",
    "\"\"\"\n",
    "pacientes_por_hospital = pd.read_sql_query(query_3, conn)\n",
    "print(\"\\n3. Número de pacientes atendidos en cada hospital:\")\n",
    "print(pacientes_por_hospital)\n",
    "\n",
    "# 4. Nivel medio de hidratación de los pacientes por hospital\n",
    "query_4 = \"\"\"\n",
    "SELECT hospital, AVG(hydration_level) AS media_hidratacion\n",
    "FROM t_healt\n",
    "GROUP BY hospital\n",
    "\"\"\"\n",
    "hidratacion_por_hospital = pd.read_sql_query(query_4, conn)\n",
    "print(\"\\n4. Nivel medio de hidratación de los pacientes en cada hospital:\")\n",
    "print(hidratacion_por_hospital)\n",
    "\n",
    "# Cerrar la conexión\n",
    "conn.close()\n"
   ]
  },
  {
   "cell_type": "markdown",
   "metadata": {},
   "source": [
    "### Privacidad de los Datos\n",
    "#### *Clasificación de Variables*"
   ]
  },
  {
   "cell_type": "markdown",
   "metadata": {},
   "source": [
    "1. Identificadores (ID únicos y directos):\n",
    "- id - Identificador unico del paciente o registro.\n",
    "- ssn - Numero de seguro social (identificador unico)"
   ]
  },
  {
   "cell_type": "markdown",
   "metadata": {},
   "source": [
    "2. Identificadores indirectos (datos que pueden identificar a una persona, pero no son unicos por sí mismos):\n",
    "- *patient_name* > Nombre del paciente (no es unico, pero ayuda a identificar).\n",
    "- *admitted_ts* > Fecha y hora de admisión (junto con otros campos puede identificar de forma indirecta).\n",
    "- *hospital* > El hospital donde se atendió al paciente (con otros campos puede ayudar a identificar).\n",
    "- *marital_status* > Estado civil (puede no ser unico, pero junto con otros datos puede identificar indirectamente)"
   ]
  },
  {
   "cell_type": "markdown",
   "metadata": {},
   "source": [
    "3. Atributo objetivo (variable que refleja el resultado o estado del paciente, usualmente la que se quiere predecir o analizar):\n",
    "- *has_diabetes* > Indica si el paciente tiene diabetes (0 o 1)."
   ]
  },
  {
   "cell_type": "markdown",
   "metadata": {},
   "source": [
    "4. No identificadores (atributo descriptivos, medidas o estados que no identifican directamente a una persona):\n",
    "- *age* > Edad del paciente.\n",
    "- *ambulance_call* > Indica si el paciente llegó en ambulancia.\n",
    "- *blood_sugar_reading* > Lectura de nivel de azucar en sangre.\n",
    "- *days_since_last_visit* > Dias desde la ultima visita.\n",
    "- *hours_hospitalized* > Número de horas hospitalizado.\n",
    "- *hydration_level* > Nivel de hidratación.\n",
    "- *insulin* > Indica si se administró insulina.\n",
    "- *no_primary_dr* > Indica si no tiene medico de cabecera.\n",
    "- *private_insurance* > Indica si el paciente tiene seguro privado.\n",
    "- *released_sameday* > Indica si fue dado de alta el mismo día.\n",
    "- *sympton_code* > Código de síntomas presentados."
   ]
  },
  {
   "cell_type": "markdown",
   "metadata": {},
   "source": [
    "##### Para eliminar identificadores directos del DataFrame (excepto ssn), se puede utilizar el metodo *drop()* de Pandas. El campo *id* es el que clasificamos como identificador directo, asi que lo eliminamos.\n",
    "\n",
    "A continuación, el dódigo para eliminar identificadores directos (excepto *ssn*)"
   ]
  },
  {
   "cell_type": "code",
   "execution_count": 60,
   "metadata": {},
   "outputs": [
    {
     "name": "stdout",
     "output_type": "stream",
     "text": [
      "          admitted_ts  age  ambulance_call  blood_sugar_reading  \\\n",
      "0 2018-05-09 12:06:28   49            True                  108   \n",
      "1 2018-05-12 10:02:55   82            True                   70   \n",
      "2 2018-05-13 12:25:17   71            True                  100   \n",
      "3 2018-05-14 12:20:08   87           False                  113   \n",
      "4 2018-05-17 08:35:23   53            True                   93   \n",
      "\n",
      "   days_since_last_visit  has_diabetes  hospital  hours_hospitalized  \\\n",
      "0                     99          True  district                  15   \n",
      "1                    100          True   general                  22   \n",
      "2                     78          True  northern                   1   \n",
      "3                     72          True   general                  22   \n",
      "4                     80          True  district                  17   \n",
      "\n",
      "   hydration_level  insulin marital_status  no_primary_dr     patient_name  \\\n",
      "0                6     True         single          False   Rachel Shelton   \n",
      "1                1     True        married          False   Barbara Medina   \n",
      "2                4     True      no_answer           True  Kaitlyn Daniels   \n",
      "3                4     True      no_answer          False    William Reyes   \n",
      "4                8    False      no_answer           True       Eric Booth   \n",
      "\n",
      "   private_insurance  released_sameday          ssn  symptom_code  \n",
      "0              False             False  743-97-4081             4  \n",
      "1              False             False  698-10-2230             3  \n",
      "2              False              True  540-83-4297             2  \n",
      "3               True             False  282-96-8755             0  \n",
      "4              False             False  130-25-8918             8  \n"
     ]
    }
   ],
   "source": [
    "# Eliminar la columna 'id' (identificador directo) del DataFrame\n",
    "df_healt = df_healt.drop(columns=['id'])\n",
    "\n",
    "# Verificar que la columna se ha eliminado\n",
    "print(df_healt.head())\n"
   ]
  },
  {
   "cell_type": "markdown",
   "metadata": {},
   "source": [
    "Para asegurarnos de que *id* ya no está en el DataFrame, utilizamos el siguiente código:"
   ]
  },
  {
   "cell_type": "code",
   "execution_count": 61,
   "metadata": {},
   "outputs": [
    {
     "name": "stdout",
     "output_type": "stream",
     "text": [
      "Index(['admitted_ts', 'age', 'ambulance_call', 'blood_sugar_reading',\n",
      "       'days_since_last_visit', 'has_diabetes', 'hospital',\n",
      "       'hours_hospitalized', 'hydration_level', 'insulin', 'marital_status',\n",
      "       'no_primary_dr', 'patient_name', 'private_insurance',\n",
      "       'released_sameday', 'ssn', 'symptom_code'],\n",
      "      dtype='object')\n"
     ]
    }
   ],
   "source": [
    "print(df_healt.columns)\n"
   ]
  },
  {
   "cell_type": "markdown",
   "metadata": {},
   "source": [
    "#### Aplicando la generalización del atributo *age* para representar las edades en rangos de 10 años, tal como indica la consigna:\n",
    "\n",
    "### Codigo para generalizar *age* en rangos de 10 años:"
   ]
  },
  {
   "cell_type": "code",
   "execution_count": 62,
   "metadata": {},
   "outputs": [
    {
     "name": "stdout",
     "output_type": "stream",
     "text": [
      "     age\n",
      "0  40-49\n",
      "1    80+\n",
      "2  70-79\n",
      "3    80+\n",
      "4  50-59\n"
     ]
    }
   ],
   "source": [
    "# Definir función para generalizar edades\n",
    "def generalizar_edad(age):\n",
    "    if age < 20:\n",
    "        return '<20'\n",
    "    elif age < 30:\n",
    "        return '20-29'\n",
    "    elif age < 40:\n",
    "        return '30-39'\n",
    "    elif age < 50:\n",
    "        return '40-49'\n",
    "    elif age < 60:\n",
    "        return '50-59'\n",
    "    elif age < 70:\n",
    "        return '60-69'\n",
    "    elif age < 80:\n",
    "        return '70-79'\n",
    "    else:\n",
    "        return '80+'\n",
    "\n",
    "# Aplicar generalización al campo 'age'\n",
    "df_healt['age'] = df_healt['age'].apply(generalizar_edad)\n",
    "\n",
    "# Verificar cambios\n",
    "print(df_healt[['age']].head())\n"
   ]
  },
  {
   "cell_type": "markdown",
   "metadata": {},
   "source": [
    "##### Codigo para verificación completa, el cual va a mostrar cuantos pacientes hay en cada rango de edad:"
   ]
  },
  {
   "cell_type": "code",
   "execution_count": 63,
   "metadata": {},
   "outputs": [
    {
     "name": "stdout",
     "output_type": "stream",
     "text": [
      "age\n",
      "40-49    157\n",
      "50-59    150\n",
      "70-79    137\n",
      "20-29    134\n",
      "30-39    134\n",
      "80+      126\n",
      "60-69    118\n",
      "<20       44\n",
      "Name: count, dtype: int64\n"
     ]
    }
   ],
   "source": [
    "print(df_healt['age'].value_counts())\n"
   ]
  },
  {
   "cell_type": "markdown",
   "metadata": {},
   "source": [
    "#### Enmascaramiento del numero de Sanidad (ssn) en el DataFrame:"
   ]
  },
  {
   "cell_type": "code",
   "execution_count": 64,
   "metadata": {},
   "outputs": [
    {
     "name": "stdout",
     "output_type": "stream",
     "text": [
      "           ssn\n",
      "0  ***-**-4081\n",
      "1  ***-**-2230\n",
      "2  ***-**-4297\n",
      "3  ***-**-8755\n",
      "4  ***-**-8918\n"
     ]
    }
   ],
   "source": [
    "# Aplicar enmascaramiento al campo 'ssn'\n",
    "df_healt['ssn'] = df_healt['ssn'].apply(lambda x: '***-**-' + x[-4:])\n",
    "\n",
    "# Verificar el enmascaramiento\n",
    "print(df_healt[['ssn']].head())\n"
   ]
  },
  {
   "cell_type": "markdown",
   "metadata": {},
   "source": [
    "#### Aplicando Intercambio en la columna *hospital*, manteniendo la distribución original pero cambiando la asociación de cada paciente con su hospital:\n",
    "\n",
    "A continuación, el código:"
   ]
  },
  {
   "cell_type": "code",
   "execution_count": 65,
   "metadata": {},
   "outputs": [
    {
     "name": "stdout",
     "output_type": "stream",
     "text": [
      "   hospital\n",
      "0   general\n",
      "1  northern\n",
      "2   central\n",
      "3  northern\n",
      "4  northern\n"
     ]
    }
   ],
   "source": [
    "import numpy as np\n",
    "\n",
    "# Mezclar aleatoriamente los valores de la columna 'hospital'\n",
    "df_healt['hospital'] = np.random.permutation(df_healt['hospital'].values)\n",
    "\n",
    "# Verificar el intercambio\n",
    "print(df_healt[['hospital']].head())\n"
   ]
  },
  {
   "cell_type": "markdown",
   "metadata": {},
   "source": [
    "#### Calidad de Privacidad de los Datos"
   ]
  },
  {
   "cell_type": "code",
   "execution_count": 66,
   "metadata": {},
   "outputs": [
    {
     "name": "stdout",
     "output_type": "stream",
     "text": [
      "Note: you may need to restart the kernel to use updated packages.\n",
      "Collecting pycanon\n",
      "  Downloading pycanon-1.0.1.post2-py3-none-any.whl.metadata (8.0 kB)\n",
      "Requirement already satisfied: numpy>=1.21.6 in c:\\users\\fvillagra\\appdata\\local\\programs\\python\\python313\\lib\\site-packages (from pycanon) (2.2.1)\n",
      "Requirement already satisfied: pandas>=1.3.5 in c:\\users\\fvillagra\\appdata\\local\\programs\\python\\python313\\lib\\site-packages (from pycanon) (2.2.3)\n",
      "Collecting typer>=0.4.1 (from pycanon)\n",
      "  Downloading typer-0.15.1-py3-none-any.whl.metadata (15 kB)\n",
      "Collecting tabulate>=0.8.10 (from pycanon)\n",
      "  Downloading tabulate-0.9.0-py3-none-any.whl.metadata (34 kB)\n",
      "Requirement already satisfied: python-dateutil>=2.8.2 in c:\\users\\fvillagra\\appdata\\local\\programs\\python\\python313\\lib\\site-packages (from pandas>=1.3.5->pycanon) (2.9.0.post0)\n",
      "Requirement already satisfied: pytz>=2020.1 in c:\\users\\fvillagra\\appdata\\local\\programs\\python\\python313\\lib\\site-packages (from pandas>=1.3.5->pycanon) (2024.2)\n",
      "Requirement already satisfied: tzdata>=2022.7 in c:\\users\\fvillagra\\appdata\\local\\programs\\python\\python313\\lib\\site-packages (from pandas>=1.3.5->pycanon) (2024.2)\n",
      "Collecting click>=8.0.0 (from typer>=0.4.1->pycanon)\n",
      "  Downloading click-8.1.8-py3-none-any.whl.metadata (2.3 kB)\n",
      "Collecting typing-extensions>=3.7.4.3 (from typer>=0.4.1->pycanon)\n",
      "  Downloading typing_extensions-4.12.2-py3-none-any.whl.metadata (3.0 kB)\n",
      "Collecting shellingham>=1.3.0 (from typer>=0.4.1->pycanon)\n",
      "  Downloading shellingham-1.5.4-py2.py3-none-any.whl.metadata (3.5 kB)\n",
      "Collecting rich>=10.11.0 (from typer>=0.4.1->pycanon)\n",
      "  Downloading rich-13.9.4-py3-none-any.whl.metadata (18 kB)\n",
      "Requirement already satisfied: colorama in c:\\users\\fvillagra\\appdata\\local\\programs\\python\\python313\\lib\\site-packages (from click>=8.0.0->typer>=0.4.1->pycanon) (0.4.6)\n",
      "Requirement already satisfied: six>=1.5 in c:\\users\\fvillagra\\appdata\\local\\programs\\python\\python313\\lib\\site-packages (from python-dateutil>=2.8.2->pandas>=1.3.5->pycanon) (1.17.0)\n",
      "Collecting markdown-it-py>=2.2.0 (from rich>=10.11.0->typer>=0.4.1->pycanon)\n",
      "  Downloading markdown_it_py-3.0.0-py3-none-any.whl.metadata (6.9 kB)\n",
      "Requirement already satisfied: pygments<3.0.0,>=2.13.0 in c:\\users\\fvillagra\\appdata\\local\\programs\\python\\python313\\lib\\site-packages (from rich>=10.11.0->typer>=0.4.1->pycanon) (2.19.1)\n",
      "Collecting mdurl~=0.1 (from markdown-it-py>=2.2.0->rich>=10.11.0->typer>=0.4.1->pycanon)\n",
      "  Downloading mdurl-0.1.2-py3-none-any.whl.metadata (1.6 kB)\n",
      "Downloading pycanon-1.0.1.post2-py3-none-any.whl (30 kB)\n",
      "Downloading tabulate-0.9.0-py3-none-any.whl (35 kB)\n",
      "Downloading typer-0.15.1-py3-none-any.whl (44 kB)\n",
      "Downloading click-8.1.8-py3-none-any.whl (98 kB)\n",
      "Downloading rich-13.9.4-py3-none-any.whl (242 kB)\n",
      "Downloading shellingham-1.5.4-py2.py3-none-any.whl (9.8 kB)\n",
      "Downloading typing_extensions-4.12.2-py3-none-any.whl (37 kB)\n",
      "Downloading markdown_it_py-3.0.0-py3-none-any.whl (87 kB)\n",
      "Downloading mdurl-0.1.2-py3-none-any.whl (10.0 kB)\n",
      "Installing collected packages: typing-extensions, tabulate, shellingham, mdurl, click, markdown-it-py, rich, typer, pycanon\n",
      "Successfully installed click-8.1.8 markdown-it-py-3.0.0 mdurl-0.1.2 pycanon-1.0.1.post2 rich-13.9.4 shellingham-1.5.4 tabulate-0.9.0 typer-0.15.1 typing-extensions-4.12.2\n"
     ]
    }
   ],
   "source": [
    "pip install pycanon\n"
   ]
  },
  {
   "cell_type": "code",
   "execution_count": 67,
   "metadata": {},
   "outputs": [
    {
     "name": "stdout",
     "output_type": "stream",
     "text": [
      "El valor de k-anonimidad es: 1\n"
     ]
    }
   ],
   "source": [
    "from pycanon import anonymity\n",
    "\n",
    "# Seleccionar columnas cuasi-identificadoras (QID) que afectan la privacidad\n",
    "qid_columns = ['age', 'hospital', 'marital_status']\n",
    "\n",
    "# Calcular k-anonimidad\n",
    "k = anonymity.k_anonymity(df_healt, qid_columns)\n",
    "\n",
    "# Mostrar resultado de k\n",
    "print(f'El valor de k-anonimidad es: {k}')\n"
   ]
  },
  {
   "cell_type": "markdown",
   "metadata": {},
   "source": [
    "#### Interpretación del resultado:\n",
    "\n",
    "- Si k ≥ 5 o k ≥ 10: La anonimidad es razonable para proteger la privacidad (mayor k implica mejor protección).\n",
    "- Si k < 5: Existe un riesgo significativo de reidentificación."
   ]
  },
  {
   "cell_type": "markdown",
   "metadata": {},
   "source": [
    "#### ¿Cómo mejorar la k-anonimidad si es baja?\n",
    "\n",
    "    Más Generalización:\n",
    "        Puedes agrupar marital_status (soltero/casado) en categorías más amplias (casado y no casado).\n",
    "        Agrupar hospitales en regiones (Hospital A, B, C → Región 1).\n",
    "\n",
    "    Mayor Enmascaramiento o Eliminación:\n",
    "        Eliminar o enmascarar más columnas sensibles.\n",
    "\n",
    "    Perturbación/Agrupación de Datos:\n",
    "        Agregar ruido a valores numéricos (hours_hospitalized) o agruparlos en intervalos (10-20h, 20-30h)."
   ]
  },
  {
   "cell_type": "markdown",
   "metadata": {},
   "source": [
    "####Reflexión:\n",
    "\n",
    "    Si el valor de k no es suficiente, se deben aplicar técnicas adicionales para aumentar la privacidad sin perder demasiada utilidad en los datos.\n",
    "    La equidad entre privacidad y utilidad debe guiar estas decisiones."
   ]
  }
 ],
 "metadata": {
  "kernelspec": {
   "display_name": "Python 3 (ipykernel)",
   "language": "python",
   "name": "python3"
  },
  "language_info": {
   "codemirror_mode": {
    "name": "ipython",
    "version": 3
   },
   "file_extension": ".py",
   "mimetype": "text/x-python",
   "name": "python",
   "nbconvert_exporter": "python",
   "pygments_lexer": "ipython3",
   "version": "3.13.1"
  }
 },
 "nbformat": 4,
 "nbformat_minor": 2
}
